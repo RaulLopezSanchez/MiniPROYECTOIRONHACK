{
 "cells": [
  {
   "cell_type": "code",
   "execution_count": 5,
   "id": "d1643958",
   "metadata": {},
   "outputs": [
    {
     "name": "stdout",
     "output_type": "stream",
     "text": [
      "No hay suficientes datos válidos para realizar la regresión lineal.\n"
     ]
    },
    {
     "ename": "NameError",
     "evalue": "name 'model' is not defined",
     "output_type": "error",
     "traceback": [
      "\u001b[1;31m---------------------------------------------------------------------------\u001b[0m",
      "\u001b[1;31mNameError\u001b[0m                                 Traceback (most recent call last)",
      "\u001b[1;32m~\\AppData\\Local\\Temp\\ipykernel_3324\\3606817384.py\u001b[0m in \u001b[0;36m<module>\u001b[1;34m\u001b[0m\n\u001b[0;32m     40\u001b[0m \u001b[1;33m\u001b[0m\u001b[0m\n\u001b[0;32m     41\u001b[0m \u001b[1;31m# Ajustar el modelo a los datos\u001b[0m\u001b[1;33m\u001b[0m\u001b[1;33m\u001b[0m\u001b[0m\n\u001b[1;32m---> 42\u001b[1;33m \u001b[0mresults\u001b[0m \u001b[1;33m=\u001b[0m \u001b[0mmodel\u001b[0m\u001b[1;33m.\u001b[0m\u001b[0mfit\u001b[0m\u001b[1;33m(\u001b[0m\u001b[1;33m)\u001b[0m\u001b[1;33m\u001b[0m\u001b[1;33m\u001b[0m\u001b[0m\n\u001b[0m\u001b[0;32m     43\u001b[0m \u001b[1;33m\u001b[0m\u001b[0m\n\u001b[0;32m     44\u001b[0m \u001b[1;31m# Imprimir los resultados de la regresión lineal\u001b[0m\u001b[1;33m\u001b[0m\u001b[1;33m\u001b[0m\u001b[0m\n",
      "\u001b[1;31mNameError\u001b[0m: name 'model' is not defined"
     ]
    }
   ],
   "source": [
    "import pandas as pd\n",
    "import statsmodels.api as sm\n",
    "\n",
    "# Cargar el DataFrame desde un archivo o fuente de datos\n",
    "df = pd.read_csv('data_mid_bootcamp_project_FIFA_MoneyBall/fifa21_male2.csv',low_memory=False)\n",
    "\n",
    "# Realizar las transformaciones en el DataFrame\n",
    "age_mapping = {'16': 16, '17': 17, '18': 18, '19': 19, '20': 20, '21': 21, '22': 22, '23': 23, '24': 24, '25': 25,\n",
    "               '26': 26, '27': 27, '28': 28, '29': 29, '30': 30, '31': 31, '32': 32, '33': 33, '34': 34, '35': 35,\n",
    "               '36': 36, '37': 37, '38': 38, '39': 39, '40': 40, '41': 41, '42': 42, '43': 43, '44': 44, '45': 45,\n",
    "               '46': 46, '47': 47, '48': 48, '49': 49, '50': 50, '51': 51, '52': 52, '53': 53, '54': 54, '55': 55,\n",
    "               '56': 56, '57': 57, '58': 58, '59': 59, '60': 60}\n",
    "\n",
    "df['Age'] = df['Age'].map(age_mapping)\n",
    "df['OVA'] = df['OVA'].astype(int)\n",
    "df['POT'] = df['POT'].astype(int)\n",
    "df['Value'] = df['Value'].str.replace('€', '').str.replace('K', '').str.replace('M', '').astype(float) * 1000\n",
    "df['Wage'] = df['Wage'].str.replace('€', '').str.replace('K', '').astype(float) * 1000\n",
    "\n",
    "# Seleccionar las columnas numéricas relevantes para la regresión lineal\n",
    "numeric_cols = ['Age', 'OVA', 'POT', 'Value', 'Wage']\n",
    "\n",
    "# Crear el DataFrame de variables independientes (X) y la variable dependiente (y)\n",
    "X = df[numeric_cols]\n",
    "y = df['Growth']\n",
    "\n",
    "# Agregar una constante a X para estimar el intercepto en la regresión lineal\n",
    "X = sm.add_constant(X)\n",
    "\n",
    "# Eliminar filas con valores faltantes en el DataFrame X y la variable dependiente y\n",
    "X = X.dropna()\n",
    "y = y[X.index]\n",
    "\n",
    "# Verificar el número de filas en X después de eliminar los valores faltantes\n",
    "if X.shape[0] == 0:\n",
    "    print(\"No hay suficientes datos válidos para realizar la regresión lineal.\")\n",
    "else:\n",
    "# Crear el modelo de regresión lineal\n",
    " model = sm.OLS(y, X)\n",
    "\n",
    "# Ajustar el modelo a los datos\n",
    "results = model.fit()\n",
    "\n",
    "# Imprimir los resultados de la regresión lineal\n",
    "print(results.summary())"
   ]
  },
  {
   "cell_type": "code",
   "execution_count": 6,
   "id": "81f347b6",
   "metadata": {},
   "outputs": [
    {
     "name": "stdout",
     "output_type": "stream",
     "text": [
      "No hay suficientes datos válidos para realizar la regresión lineal.\n"
     ]
    }
   ],
   "source": [
    "import pandas as pd\n",
    "import statsmodels.api as sm\n",
    "\n",
    "# Cargar el DataFrame desde un archivo o fuente de datos\n",
    "df = pd.read_csv('data_mid_bootcamp_project_FIFA_MoneyBall/fifa21_male2.csv', low_memory=False)\n",
    "\n",
    "# Realizar las transformaciones en el DataFrame\n",
    "age_mapping = {'16': 16, '17': 17, '18': 18, '19': 19, '20': 20, '21': 21, '22': 22, '23': 23, '24': 24, '25': 25,\n",
    "               '26': 26, '27': 27, '28': 28, '29': 29, '30': 30, '31': 31, '32': 32, '33': 33, '34': 34, '35': 35,\n",
    "               '36': 36, '37': 37, '38': 38, '39': 39, '40': 40, '41': 41, '42': 42, '43': 43, '44': 44, '45': 45,\n",
    "               '46': 46, '47': 47, '48': 48, '49': 49, '50': 50, '51': 51, '52': 52, '53': 53, '54': 54, '55': 55,\n",
    "               '56': 56, '57': 57, '58': 58, '59': 59, '60': 60}\n",
    "\n",
    "df['Age'] = df['Age'].map(age_mapping)\n",
    "df['OVA'] = df['OVA'].astype(int)\n",
    "df['POT'] = df['POT'].astype(int)\n",
    "df['Value'] = df['Value'].str.replace('€', '').str.replace('K', '').str.replace('M', '').astype(float) * 1000\n",
    "df['Wage'] = df['Wage'].str.replace('€', '').str.replace('K', '').astype(float) * 1000\n",
    "\n",
    "# Seleccionar las columnas numéricas relevantes para la regresión lineal\n",
    "numeric_cols = ['Age', 'OVA', 'POT', 'Value', 'Wage']\n",
    "\n",
    "# Crear el DataFrame de variables independientes (X) y la variable dependiente (y)\n",
    "X = df[numeric_cols]\n",
    "y = df['Growth']\n",
    "\n",
    "# Agregar una constante a X para estimar el intercepto en la regresión lineal\n",
    "X = sm.add_constant(X)\n",
    "\n",
    "# Eliminar filas con valores faltantes en el DataFrame X y la variable dependiente y\n",
    "X = X.dropna()\n",
    "y = y[X.index]\n",
    "\n",
    "# Verificar el número de filas en X después de eliminar los valores faltantes\n",
    "if X.shape[0] == 0:\n",
    "    print(\"No hay suficientes datos válidos para realizar la regresión lineal.\")\n",
    "else:\n",
    "    # Crear el modelo de regresión lineal\n",
    "    model = sm.OLS(y, X)\n",
    "\n",
    "    # Ajustar el modelo a los datos\n",
    "    results = model.fit()\n",
    "\n",
    "    # Imprimir los resultados de la regresión lineal\n",
    "    print(results.summary())\n"
   ]
  },
  {
   "cell_type": "code",
   "execution_count": null,
   "id": "91753762",
   "metadata": {},
   "outputs": [],
   "source": []
  }
 ],
 "metadata": {
  "kernelspec": {
   "display_name": "Python 3 (ipykernel)",
   "language": "python",
   "name": "python3"
  },
  "language_info": {
   "codemirror_mode": {
    "name": "ipython",
    "version": 3
   },
   "file_extension": ".py",
   "mimetype": "text/x-python",
   "name": "python",
   "nbconvert_exporter": "python",
   "pygments_lexer": "ipython3",
   "version": "3.9.13"
  }
 },
 "nbformat": 4,
 "nbformat_minor": 5
}
